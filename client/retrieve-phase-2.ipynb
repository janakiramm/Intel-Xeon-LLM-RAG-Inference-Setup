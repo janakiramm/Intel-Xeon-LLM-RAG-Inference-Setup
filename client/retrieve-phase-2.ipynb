{
 "cells": [
  {
   "cell_type": "markdown",
   "id": "9cf5f169-2449-40a9-8553-6c3aff51821e",
   "metadata": {},
   "source": [
    "### Import modules"
   ]
  },
  {
   "cell_type": "code",
   "execution_count": 1,
   "id": "45c11c5e-689a-4b45-ba52-e1ed2262f2f1",
   "metadata": {},
   "outputs": [],
   "source": [
    "import chromadb\n",
    "from chromadb.config import Settings\n",
    "from chromadb.utils import embedding_functions\n",
    "import openai"
   ]
  },
  {
   "cell_type": "markdown",
   "id": "62fd3ab8-9e0c-46dd-b8b9-58357310a30c",
   "metadata": {},
   "source": [
    "### Define endpoints"
   ]
  },
  {
   "cell_type": "code",
   "execution_count": 2,
   "id": "637325cb-b9ef-44cc-a308-83132e5f27e8",
   "metadata": {},
   "outputs": [],
   "source": [
    "EMBEDDINGS_IP=\"34.142.174.68\"\n",
    "VECTORDB_IP=\"34.142.174.68\"\n",
    "LLM_IP=\"34.142.174.68\"\n",
    "\n",
    "LLM_PORT=\"8000\"\n",
    "EMBEDDINGS_PORT=\"8001\"\n",
    "VECTORDB_PORT=\"8002\""
   ]
  },
  {
   "cell_type": "markdown",
   "id": "98bf56d6-8f44-4103-b868-c4b77369ebb6",
   "metadata": {},
   "source": [
    "### Initialize ChromaDB"
   ]
  },
  {
   "cell_type": "code",
   "execution_count": 3,
   "id": "c3b122af-eede-4519-8e47-c6774a2fbe59",
   "metadata": {},
   "outputs": [],
   "source": [
    "client = chromadb.HttpClient(host=VECTORDB_IP, port=VECTORDB_PORT, settings=Settings(allow_reset=True, anonymized_telemetry=False))\n",
    "default_ef = embedding_functions.HuggingFaceEmbeddingServer(url=\"http://\"+ EMBEDDINGS_IP +\":\"+ EMBEDDINGS_PORT +\"/embed\")\n",
    "collection = client.get_or_create_collection(name=\"baggage_pol\",embedding_function=default_ef)"
   ]
  },
  {
   "cell_type": "markdown",
   "id": "b3dfbea8-c58c-4f81-b491-021e79ed98f6",
   "metadata": {},
   "source": [
    "### Generate context for a query"
   ]
  },
  {
   "cell_type": "code",
   "execution_count": 4,
   "id": "6d00edcf-6007-4729-8d98-1f4c2fc6eca4",
   "metadata": {},
   "outputs": [],
   "source": [
    "def generate_context(query):\n",
    "    vector = default_ef([query])\n",
    "    results = collection.query(    \n",
    "        query_embeddings=vector,\n",
    "        n_results=2,\n",
    "        include=[\"documents\"]\n",
    "    )\n",
    "    res = \" \\n\".join(str(item) for item in results['documents'][0])\n",
    "    return res"
   ]
  },
  {
   "cell_type": "code",
   "execution_count": 5,
   "id": "c1891476-d842-4e63-8fa6-a77c0f38f234",
   "metadata": {},
   "outputs": [
    {
     "name": "stdout",
     "output_type": "stream",
     "text": [
      "The baggage allowance for RedJet ﬂights is as follows: Each passenger can bring one carry-on bag and one personal item, such as a purse, laptop, or backpack. The carry-on bag must not exceed 55 x 40 x 20 cm and 10 kg, and the personal item must ﬁt under the seat in front of you. \n",
      "The oversized baggage fee is 45 EUR per bag. Passengers are advised to check the baggage policy and fees on the RedJet website before ﬂying and to pack accordingly. RedJet reserves the right to refuse or charge extra for any baggage that does not comply with the policy.\n"
     ]
    }
   ],
   "source": [
    "print(generate_context(\"baggage policy for domestic\"))"
   ]
  },
  {
   "cell_type": "markdown",
   "id": "6ac11cc9-61d2-45b5-a0d3-3f942bfbdff9",
   "metadata": {},
   "source": [
    "### Helper function for chat completion"
   ]
  },
  {
   "cell_type": "code",
   "execution_count": 6,
   "id": "3aaa4e56-4182-4e8e-9cd5-54c63876bc62",
   "metadata": {},
   "outputs": [],
   "source": [
    "MODEL=\"mistral-7b-instruct-v0.2.Q4_K_M.gguf\""
   ]
  },
  {
   "cell_type": "code",
   "execution_count": 7,
   "id": "13fac77b-0927-44a9-bd71-9a075cc9d7e0",
   "metadata": {},
   "outputs": [],
   "source": [
    "def chat_completion(system_prompt, user_prompt, length=1000):\n",
    "    client = openai.OpenAI( base_url=\"http://\"+LLM_IP+\":\"+LLM_PORT+\"/v1\",api_key=\"_\")\n",
    "    completion = client.chat.completions.create(\n",
    "    model=MODEL,\n",
    "    messages=[\n",
    "            {\"role\": \"system\", \"content\": system_prompt},\n",
    "            {\"role\": \"user\", \"content\": user_prompt}\n",
    "        ]\n",
    "    )\n",
    "    return (completion.choices[0].message.content)"
   ]
  },
  {
   "cell_type": "markdown",
   "id": "05d38840-7416-4efb-bace-40d2019b075a",
   "metadata": {},
   "source": [
    "### Helper function for Chatbot"
   ]
  },
  {
   "cell_type": "code",
   "execution_count": 8,
   "id": "760609e3-9fa6-499a-a5fa-2eb01d7e0d73",
   "metadata": {},
   "outputs": [],
   "source": [
    "system_prompt = \"\"\"\n",
    "You are a helpful AI assistant that can answer questions based on the context provided.\n",
    "\\n If you cannot find the correct answer in the context, say I don't know but do not include any other information.\n",
    "\\n Be concise and just include the response.\n",
    "\"\"\""
   ]
  },
  {
   "cell_type": "code",
   "execution_count": 9,
   "id": "41924b50-62ef-4165-98b5-6555599ddb90",
   "metadata": {},
   "outputs": [],
   "source": [
    "def chatbot(query):\n",
    "    context = generate_context(query)\n",
    "    user_prompt = f\"\"\"\n",
    "        Based on the context:\n",
    "        {context}\n",
    "        Answer the below query:\n",
    "        {query}\n",
    "    \"\"\"\n",
    "    resp = chat_completion(system_prompt, user_prompt)\n",
    "    return resp"
   ]
  },
  {
   "cell_type": "markdown",
   "id": "61531976-e33b-41b9-9b1c-86f8ca8d15d8",
   "metadata": {},
   "source": [
    "### Invoke Chatbot with RAG"
   ]
  },
  {
   "cell_type": "code",
   "execution_count": 16,
   "id": "dc749333-f1b5-4a71-b0c3-c74c04b15966",
   "metadata": {},
   "outputs": [],
   "source": [
    "#res=chatbot(\"What's the excess baggage fee for domestic flights?\")\n",
    "#res=chatbot(\"What's the excess baggage fee for international flights?\")\n",
    "#res=chatbot(\"What's the size of carry-on bag?\")\n",
    "res=chatbot(\"What's maximum weight for checked baggage?\")"
   ]
  },
  {
   "cell_type": "code",
   "execution_count": 17,
   "id": "a337a2eb-4bb2-489e-b093-38f01e4b76d7",
   "metadata": {},
   "outputs": [
    {
     "name": "stdout",
     "output_type": "stream",
     "text": [
      " The maximum weight for checked baggage is 35 kg per bag.\n"
     ]
    }
   ],
   "source": [
    "print(res)"
   ]
  },
  {
   "cell_type": "code",
   "execution_count": null,
   "id": "80dde8d3-477f-4fdc-a644-d4d385c24f2c",
   "metadata": {},
   "outputs": [],
   "source": []
  }
 ],
 "metadata": {
  "kernelspec": {
   "display_name": "Python 3 (ipykernel)",
   "language": "python",
   "name": "python3"
  },
  "language_info": {
   "codemirror_mode": {
    "name": "ipython",
    "version": 3
   },
   "file_extension": ".py",
   "mimetype": "text/x-python",
   "name": "python",
   "nbconvert_exporter": "python",
   "pygments_lexer": "ipython3",
   "version": "3.10.13"
  }
 },
 "nbformat": 4,
 "nbformat_minor": 5
}
