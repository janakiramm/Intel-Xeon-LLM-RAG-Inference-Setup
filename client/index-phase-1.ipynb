{
 "cells": [
  {
   "cell_type": "markdown",
   "id": "50574339-d634-4514-bcf6-ad0dfdaaef2b",
   "metadata": {},
   "source": [
    "### Import modules"
   ]
  },
  {
   "cell_type": "code",
   "execution_count": 1,
   "id": "c416198d-299e-4177-a636-7db253ba92fe",
   "metadata": {},
   "outputs": [],
   "source": [
    "from PyPDF2 import PdfReader\n",
    "import io\n",
    "import chromadb\n",
    "from chromadb.config import Settings\n",
    "from chromadb.utils import embedding_functions\n",
    "import re\n",
    "from typing import List, Dict"
   ]
  },
  {
   "cell_type": "markdown",
   "id": "cee1c809-0d6c-4753-ae8d-f04bd848b2a5",
   "metadata": {},
   "source": [
    "### Define endpoints"
   ]
  },
  {
   "cell_type": "code",
   "execution_count": 2,
   "id": "426bbca9-1db6-44c8-90b3-8e816964d45c",
   "metadata": {},
   "outputs": [],
   "source": [
    "EMBEDDINGS_IP=\"34.142.174.68\"\n",
    "VECTORDB_IP=\"34.142.174.68\"\n",
    "\n",
    "EMBEDDINGS_PORT=\"8001\"\n",
    "VECTORDB_PORT=\"8002\""
   ]
  },
  {
   "cell_type": "markdown",
   "id": "ea386703-eedb-412a-88db-467244b163c1",
   "metadata": {},
   "source": [
    "### Initialize ChromaDB"
   ]
  },
  {
   "cell_type": "code",
   "execution_count": 3,
   "id": "f877f7df-d66c-49a2-bbf0-6d6b170d8d4a",
   "metadata": {},
   "outputs": [],
   "source": [
    "client = chromadb.HttpClient(host=VECTORDB_IP, port=VECTORDB_PORT, settings=Settings(allow_reset=True, anonymized_telemetry=False))\n",
    "default_ef = embedding_functions.HuggingFaceEmbeddingServer(url=\"http://\"+ EMBEDDINGS_IP +\":\"+ EMBEDDINGS_PORT +\"/embed\")\n",
    "collection = client.get_or_create_collection(name=\"baggage_pol\",embedding_function=default_ef)"
   ]
  },
  {
   "cell_type": "markdown",
   "id": "62d2553d-6a4d-4e50-82ad-17686a4eca02",
   "metadata": {},
   "source": [
    "### Helper functions"
   ]
  },
  {
   "cell_type": "markdown",
   "id": "995c68b6-4174-4294-a9ec-c48c8e3ad328",
   "metadata": {},
   "source": [
    "##### Load PDF and create chunks"
   ]
  },
  {
   "cell_type": "code",
   "execution_count": 4,
   "id": "52e7c500-22aa-4ebe-a642-3cc0910c7374",
   "metadata": {},
   "outputs": [],
   "source": [
    "def load_pdf(pdf_file: str, word: int) -> Dict[int, List[str]]:\n",
    "    reader = PdfReader(pdf_file)    \n",
    "    documents = {}\n",
    "    for page_no in range(len(reader.pages)):        \n",
    "        page = reader.pages[page_no]\n",
    "        text = page.extract_text() \n",
    "        text_chunks = get_text_chunks(text, word)\n",
    "        documents[page_no] = text_chunks\n",
    "    return documents"
   ]
  },
  {
   "cell_type": "markdown",
   "id": "f18e1958-519d-4cf5-b995-db084e7c742b",
   "metadata": {},
   "source": [
    "##### Create chunks from text"
   ]
  },
  {
   "cell_type": "code",
   "execution_count": 5,
   "id": "9c187ced-feb3-4714-9be3-4a6d751d4097",
   "metadata": {},
   "outputs": [],
   "source": [
    "def get_text_chunks(text: str, word_limit: int) -> List[str]:\n",
    "    sentences = re.split(r'(?<!\\w\\.\\w.)(?<![A-Z][a-z]\\.)(?<=\\.|\\?)\\s', text)\n",
    "    chunks = []\n",
    "    current_chunk = []\n",
    "\n",
    "    for sentence in sentences:\n",
    "        words = sentence.split()\n",
    "        if len(\" \".join(current_chunk + words)) <= word_limit:\n",
    "            current_chunk.extend(words)\n",
    "        else:\n",
    "            chunks.append(\" \".join(current_chunk))\n",
    "            current_chunk = words\n",
    "\n",
    "    if current_chunk:\n",
    "        chunks.append(\" \".join(current_chunk))\n",
    "\n",
    "    return chunks"
   ]
  },
  {
   "cell_type": "markdown",
   "id": "7d529482-4cc9-4db1-b482-c4723349e059",
   "metadata": {},
   "source": [
    "##### Index document"
   ]
  },
  {
   "cell_type": "code",
   "execution_count": 6,
   "id": "ca3533d5-e406-47d1-91e2-ebcb14fd84ab",
   "metadata": {},
   "outputs": [],
   "source": [
    "def index_document(pdf_file: str, word: int = 300) -> None:    \n",
    "    docs = load_pdf(pdf_file, word)    \n",
    "\n",
    "    docs_strings = []  \n",
    "    ids = []  \n",
    "    metadatas = []  \n",
    "    id = 0  \n",
    "        \n",
    "    for page_no in docs.keys():\n",
    "        for doc in docs[page_no]:        \n",
    "            docs_strings.append(doc)                        \n",
    "            metadatas.append({'page_no': page_no,\"pdf_name\": pdf_file})\n",
    "            ids.append(id)\n",
    "            id += 1\n",
    "\n",
    "    collection.add(\n",
    "        ids=[str(id) for id in ids],  \n",
    "        documents=docs_strings,  \n",
    "        metadatas=metadatas,  \n",
    "    )    "
   ]
  },
  {
   "cell_type": "markdown",
   "id": "f63b56fc-73d8-40e1-8d92-d446a8537e65",
   "metadata": {},
   "source": [
    "### Index PDF"
   ]
  },
  {
   "cell_type": "code",
   "execution_count": 7,
   "id": "17a63a1b-93d9-4245-b20f-4a038b430e8e",
   "metadata": {},
   "outputs": [],
   "source": [
    "DOC=\"data/baggage_v1.pdf\"\n",
    "index_document(DOC)"
   ]
  },
  {
   "cell_type": "markdown",
   "id": "dc953e89-3cf2-4980-a7a2-ebbbd83480ca",
   "metadata": {},
   "source": [
    "### Perform semantic search"
   ]
  },
  {
   "cell_type": "code",
   "execution_count": 8,
   "id": "99cf036a-b767-484f-9fc5-6cdf5cc5a199",
   "metadata": {},
   "outputs": [],
   "source": [
    "def search(query):\n",
    "    vector = default_ef([query])\n",
    "    results = collection.query(    \n",
    "        query_embeddings=vector,\n",
    "        n_results=2,\n",
    "        include=[\"documents\"]\n",
    "    )\n",
    "    res = \" \\n\".join(str(item) for item in results['documents'][0])\n",
    "    return res"
   ]
  },
  {
   "cell_type": "code",
   "execution_count": 11,
   "id": "af58c8cb-eaad-46da-81c5-0a9c1dda6547",
   "metadata": {},
   "outputs": [],
   "source": [
    "res=search(\"execess baggage fee\")"
   ]
  },
  {
   "cell_type": "code",
   "execution_count": 12,
   "id": "923a61e7-ce12-47d6-890e-da50f220b1c0",
   "metadata": {},
   "outputs": [
    {
     "name": "stdout",
     "output_type": "stream",
     "text": [
      "Excess baggage fees apply for any baggage that exceeds the weight or size limits. The excess baggage fee is 25 EUR per kg for domes8c ﬂights and 20 EUR per kg for interna8onal ﬂights. Addi8onally, oversized baggage fees apply for any baggage that exceeds 203 cm in total dimensions. \n",
      "The oversized baggage fee is 45 EUR per bag. Passengers are advised to check the baggage policy and fees on the RedJet website before ﬂying and to pack accordingly. RedJet reserves the right to refuse or charge extra for any baggage that does not comply with the policy.\n"
     ]
    }
   ],
   "source": [
    "print(res)"
   ]
  },
  {
   "cell_type": "code",
   "execution_count": null,
   "id": "e3794a30-71a1-428b-bf08-e3cfc975d9d7",
   "metadata": {},
   "outputs": [],
   "source": []
  }
 ],
 "metadata": {
  "kernelspec": {
   "display_name": "Python 3 (ipykernel)",
   "language": "python",
   "name": "python3"
  },
  "language_info": {
   "codemirror_mode": {
    "name": "ipython",
    "version": 3
   },
   "file_extension": ".py",
   "mimetype": "text/x-python",
   "name": "python",
   "nbconvert_exporter": "python",
   "pygments_lexer": "ipython3",
   "version": "3.10.13"
  }
 },
 "nbformat": 4,
 "nbformat_minor": 5
}
